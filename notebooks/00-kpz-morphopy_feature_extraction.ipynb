{
 "cells": [
  {
   "cell_type": "code",
   "execution_count": null,
   "metadata": {},
   "outputs": [],
   "source": [
    "# basic imports\n",
    "import pandas as pd\n",
    "import numpy as np\n",
    "import seaborn as sns\n",
    "from pathlib import Path\n",
    "import warnings\n",
    "\n",
    "# morphopy imports\n",
    "from morphopy.neurontree import NeuronTree as nt\n",
    "from morphopy.computation.feature_presentation import compute_morphometric_statistics"
   ]
  },
  {
   "attachments": {},
   "cell_type": "markdown",
   "metadata": {},
   "source": [
    "\n",
    "Goal: is to extract features from the neuron tree and store them in a pandas dataframe.\n",
    "\n",
    "Input: pickle file containing a dict of neuron_name: swc data\n",
    "\n",
    "Steps:\n",
    "- load the pickle file\n",
    "- for each neuron:\n",
    "    - create a NeuronTree object\n",
    "    - compute morphometric features\n",
    "    - add neuron name and pkl filename to the dataframe\n",
    "- (optional, default yes) export the dataframe to a csv file\n",
    "    - otherwise, return the dataframe\n",
    "\n",
    "\n",
    "Desired output:\n",
    "  - DataFrame with calculated morphometric features\n",
    "    - should add columns to include neuron name and pkl file name\n"
   ]
  },
  {
   "cell_type": "code",
   "execution_count": null,
   "metadata": {},
   "outputs": [],
   "source": [
    "swc_path = Path(\n",
    "    \"/Users/kyle/Library/CloudStorage/Box-Box/FoxLab/data-microscopy/neuromorpho-benchmark/swc_data\"\n",
    ")\n",
    "\n",
    "dopamine_swc_pkl = next(swc_path.glob(\"*dopamine*.pkl\"))\n",
    "swc_dict = pd.read_pickle(dopamine_swc_pkl)"
   ]
  },
  {
   "cell_type": "code",
   "execution_count": null,
   "metadata": {},
   "outputs": [],
   "source": [
    "tmp_dict = {n:swc_dict[n] for n in list(swc_dict.keys())[0:10]}"
   ]
  },
  {
   "cell_type": "code",
   "execution_count": null,
   "metadata": {},
   "outputs": [],
   "source": [
    "def compute_morphopy_features(neuron_swc: pd.DataFrame) -> pd.DataFrame:\n",
    "    \"\"\"Compute morphometric features using MorphoPy.\n",
    "\n",
    "    Returns:\n",
    "        morphology_features: DataFrame of morphology features.\n",
    "    \"\"\"\n",
    "    if \"id\" in neuron_swc.columns:\n",
    "        neuron_swc.rename(columns={\"id\": \"n\"}, inplace=True)\n",
    "    \n",
    "    neuron_tree = nt.NeuronTree(neuron_swc)\n",
    "    morphopy_features = compute_morphometric_statistics(neuron_tree)\n",
    "    \n",
    "    return morphopy_features"
   ]
  },
  {
   "cell_type": "code",
   "execution_count": null,
   "metadata": {},
   "outputs": [],
   "source": [
    "def batch_process_morphopy_features(swc_dict: dict) -> pd.DataFrame:\n",
    "    \"\"\"Batch process morphometric features using MorphoPy.\n",
    "\n",
    "    Args:\n",
    "        swc_dict (dict): dictionary of swc data.\n",
    "\n",
    "\n",
    "    Returns:\n",
    "        morphology_features: DataFrame of morphology features.\n",
    "    \"\"\"\n",
    "    warnings.filterwarnings(\"ignore\", category=RuntimeWarning)\n",
    "    morpho_data_list = []\n",
    "    for neuron, swc_data in swc_dict.items():\n",
    "        try:\n",
    "            morpho_data = compute_morphopy_features(swc_data)\n",
    "            morpho_data[\"neuron_name\"] = neuron\n",
    "            morpho_data_list.append(morpho_data)\n",
    "        except ValueError:\n",
    "            print(f\"Error processing {neuron}! Skipping...\")\n",
    "\n",
    "    return pd.concat(morpho_data_list, axis=0)\n",
    "\n",
    "\n",
    "def export_features_from_pkl(pkl_path: Path | str, export_file: str) -> None:\n",
    "    \"\"\"Export morphometric features from pkl file to csv in the same directory.\n",
    "\n",
    "    Args:\n",
    "        pkl_path (Path): path to pkl file of swc data.\n",
    "        export_file (str): name of exported file.\n",
    "    \"\"\"\n",
    "    pkl_path = Path(pkl_path)\n",
    "    print(f\"Starting features extraction from {Path(pkl_path.name)}...\")\n",
    "    swc_dict = pd.read_pickle(pkl_path)\n",
    "    morpho_features = batch_process_morphopy_features(swc_dict)\n",
    "    morpho_features[\"filename\"] = pkl_path.name\n",
    "    export_file = export_file if Path(export_file).suffix == \".csv\" else f\"{export_file}.csv\"\n",
    "    morpho_features.to_csv(f\"{pkl_path.parent}/{export_file}\", index=False)\n",
    "    print(f\"Finished! Exported features to {pkl_path.parent}/{export_file}.\")\n"
   ]
  },
  {
   "cell_type": "code",
   "execution_count": null,
   "metadata": {},
   "outputs": [],
   "source": [
    "cell_types = [\"neoctx-hpc_interneuron\", \"neoctx-pyramidal\"]\n",
    "\n",
    "for cell in cell_types:\n",
    "    pkl = next(swc_path.glob(f\"*{cell}*.pkl\"))\n",
    "    export_features_from_pkl(pkl, f\"{cell}_morphopy_features.csv\")"
   ]
  },
  {
   "cell_type": "code",
   "execution_count": null,
   "metadata": {},
   "outputs": [],
   "source": [
    "cell_types = [\"neoctx-pyramidal\"]\n",
    "\n",
    "for cell in cell_types:\n",
    "    pkl = next(swc_path.glob(f\"*{cell}*.pkl\"))\n",
    "    export_features_from_pkl(pkl, f\"{cell}_morphopy_features.csv\")"
   ]
  },
  {
   "cell_type": "code",
   "execution_count": null,
   "metadata": {},
   "outputs": [],
   "source": []
  }
 ],
 "metadata": {
  "kernelspec": {
   "display_name": ".venv",
   "language": "python",
   "name": "python3"
  },
  "language_info": {
   "codemirror_mode": {
    "name": "ipython",
    "version": 3
   },
   "file_extension": ".py",
   "mimetype": "text/x-python",
   "name": "python",
   "nbconvert_exporter": "python",
   "pygments_lexer": "ipython3",
   "version": "3.10.9"
  },
  "orig_nbformat": 4,
  "vscode": {
   "interpreter": {
    "hash": "177808e769deaa2238333d070f9d45f12b3271b9a0903b6e5e7f3ea7d7d99e1d"
   }
  }
 },
 "nbformat": 4,
 "nbformat_minor": 2
}
