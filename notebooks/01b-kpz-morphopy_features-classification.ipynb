{
 "cells": [
  {
   "cell_type": "code",
   "execution_count": null,
   "metadata": {},
   "outputs": [],
   "source": [
    "from pathlib import Path\n",
    "import pandas as pd\n",
    "import numpy as np\n",
    "import seaborn as sns\n",
    "import matplotlib.pyplot as plt\n",
    "\n",
    "from sklearn.model_selection import train_test_split, KFold\n",
    "from sklearn.metrics import (\n",
    "    confusion_matrix,\n",
    "    accuracy_score,\n",
    "    ConfusionMatrixDisplay,\n",
    "    classification_report,\n",
    ")\n",
    "from xgboost import XGBClassifier, plot_importance\n",
    "\n",
    "from graph_neuralmorpho.morphometrics.morphopy import MorphopyFeatures"
   ]
  },
  {
   "cell_type": "code",
   "execution_count": null,
   "metadata": {},
   "outputs": [],
   "source": [
    "data_path = Path(\"/Users/kyle/Library/CloudStorage/Box-Box/FoxLab/data-microscopy/neuromorpho-benchmark\")\n",
    "morphopy_features_path = data_path / \"processed/morphopy_features\"\n",
    "\n",
    "morphopy_features = MorphopyFeatures(morphopy_features_path)\n",
    "radius_measure_masks = morphopy_features.data.columns.str.contains(r\"thickness|volume|surface\")\n",
    "cols = morphopy_features.data.columns[~radius_measure_masks]\n",
    "features = morphopy_features.data.copy()[cols]\n",
    "features = features.dropna(axis=1)\n",
    "neuron_name = morphopy_features.neurons\n",
    "target = morphopy_features.target"
   ]
  },
  {
   "cell_type": "code",
   "execution_count": null,
   "metadata": {},
   "outputs": [],
   "source": [
    "# drop_idxs = np.where((target == 2) | (target == 4))[0]\n",
    "# features.drop(drop_idxs, inplace=True)\n",
    "# target.drop(drop_idxs, inplace=True)\n",
    "# target = target.cat.remove_unused_categories()\n",
    "# neuron_name.drop(drop_idxs, inplace=True)\n",
    "# target.replace(morphopy_features.label_dict, inplace=True)"
   ]
  },
  {
   "attachments": {},
   "cell_type": "markdown",
   "metadata": {},
   "source": [
    "## K-fold cross-validation"
   ]
  },
  {
   "cell_type": "markdown",
   "metadata": {},
   "source": [
    "## MorphoPy feature classification"
   ]
  },
  {
   "cell_type": "code",
   "execution_count": null,
   "metadata": {},
   "outputs": [],
   "source": [
    "from sklearn.model_selection import StratifiedKFold\n",
    "# split data into train and test sets\n",
    "X_train, X_test, y_train, y_test = train_test_split(\n",
    "    features,\n",
    "    target,\n",
    "    test_size=0.2,\n",
    "    random_state=42,\n",
    "    stratify=target,\n",
    ")\n",
    "kf = StratifiedKFold(n_splits=10, shuffle=True, random_state=42)"
   ]
  },
  {
   "cell_type": "code",
   "execution_count": null,
   "metadata": {},
   "outputs": [],
   "source": [
    "from sklearn.model_selection import cross_val_score\n",
    "\n",
    "bst = XGBClassifier()# tree_method=\"hist\")\n",
    "scores = cross_val_score(bst, X_train, y_train, cv=kf.split(X_train, y_train), scoring=\"accuracy\")"
   ]
  },
  {
   "cell_type": "code",
   "execution_count": null,
   "metadata": {},
   "outputs": [],
   "source": [
    "# shuffle targets \n",
    "target_shuffled = target.sample(frac=1, random_state=42).reset_index(drop=True)"
   ]
  },
  {
   "cell_type": "code",
   "execution_count": null,
   "metadata": {},
   "outputs": [],
   "source": [
    "# split data into train and test sets\n",
    "X_train, X_test, y_train, y_test = train_test_split(\n",
    "    features,\n",
    "    target,\n",
    "    test_size=0.2,\n",
    "    # random_state=42,\n",
    "    stratify=target,\n",
    ")\n",
    "# train model\n",
    "bst = XGBClassifier()\n",
    "# fit model\n",
    "bst.fit(X_train, y_train)\n",
    "# make predictions\n",
    "preds = bst.predict(X_test)\n",
    "\n",
    "print(f\"MorphoPy model accuracy: {accuracy_score(y_test, preds).round(4)}\")"
   ]
  },
  {
   "cell_type": "code",
   "execution_count": null,
   "metadata": {},
   "outputs": [],
   "source": [
    "plot_importance(bst)"
   ]
  },
  {
   "cell_type": "code",
   "execution_count": null,
   "metadata": {},
   "outputs": [],
   "source": [
    "conf_mat = confusion_matrix(y_test, preds)\n",
    "# conf_mat = confusion_matrix(y_test, preds, normalize=\"true\")\n",
    "conf_disp = ConfusionMatrixDisplay(conf_mat, display_labels=np.unique(target))\n",
    "conf_disp.plot()\n"
   ]
  },
  {
   "cell_type": "code",
   "execution_count": null,
   "metadata": {},
   "outputs": [],
   "source": [
    "# # take repeated samples of pyramidal cells and run classification\n",
    "# rand_states = np.random.randint(0, 10000, size=1000)\n",
    "# sample_state = {}\n",
    "\n",
    "# for state in rand_states:\n",
    "#     data = features.df_scaled.drop(columns=\"early_branch_path\")\n",
    "#     # grab subset of pyramidal neurons to match interneuron count\n",
    "#     num_interneurons = metadata_labels.query(\"pyramidal == 0\").shape[0]\n",
    "#     pyramidal_names = metadata_labels.query(\"pyramidal == 1\").sample(num_interneurons, random_state=state)[\n",
    "#         \"neuron_name\"\n",
    "#     ]\n",
    "#     interneuron_names = metadata_labels.query(\"pyramidal == 0\")[\"neuron_name\"]\n",
    "#     cell_names = pyramidal_names.to_list() + interneuron_names.to_list()\n",
    "#     cell_idxs = np.where(features.neuron_names.isin(cell_names))[0]\n",
    "#     data = data.iloc[cell_idxs]\n",
    "#     target = metadata_labels[metadata_labels[\"neuron_name\"].isin(cell_names)][\"pyramidal\"]\n",
    "\n",
    "#         # split data into train and test sets\n",
    "#     X_train, X_test, y_train, y_test = train_test_split(\n",
    "#         data, target, test_size=0.2, random_state=42, stratify=target\n",
    "#     )\n",
    "#     # train model\n",
    "#     bst = XGBClassifier(\n",
    "#         # n_estimators=3,\n",
    "#         # max_depth=100,\n",
    "#         # eval_metric=\"accuracy\"\n",
    "#     )\n",
    "#     # fit model\n",
    "#     bst.fit(X_train, y_train)\n",
    "#     # make predictions\n",
    "#     preds = bst.predict(X_test)\n",
    "#     sample_state[state] = accuracy_score(y_test, preds)a"
   ]
  },
  {
   "cell_type": "code",
   "execution_count": null,
   "metadata": {},
   "outputs": [],
   "source": []
  }
 ],
 "metadata": {
  "kernelspec": {
   "display_name": ".venv",
   "language": "python",
   "name": "python3"
  },
  "language_info": {
   "codemirror_mode": {
    "name": "ipython",
    "version": 3
   },
   "file_extension": ".py",
   "mimetype": "text/x-python",
   "name": "python",
   "nbconvert_exporter": "python",
   "pygments_lexer": "ipython3",
   "version": "3.10.9"
  },
  "orig_nbformat": 4,
  "vscode": {
   "interpreter": {
    "hash": "177808e769deaa2238333d070f9d45f12b3271b9a0903b6e5e7f3ea7d7d99e1d"
   }
  }
 },
 "nbformat": 4,
 "nbformat_minor": 2
}
