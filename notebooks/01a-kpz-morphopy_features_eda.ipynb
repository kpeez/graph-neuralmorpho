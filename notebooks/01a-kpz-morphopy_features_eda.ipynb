{
 "cells": [
  {
   "cell_type": "code",
   "execution_count": null,
   "metadata": {},
   "outputs": [],
   "source": [
    "from pathlib import Path\n",
    "import pandas as pd\n",
    "import numpy as np\n",
    "import seaborn as sns\n",
    "import seaborn.objects as so\n",
    "import matplotlib.pyplot as plt\n",
    "\n",
    "import umap\n",
    "import hdbscan\n",
    "\n",
    "from graph_neuralmorpho.morphometrics.morphopy import MorphopyFeatures"
   ]
  },
  {
   "cell_type": "code",
   "execution_count": null,
   "metadata": {},
   "outputs": [],
   "source": [
    "data_path = Path(\"/Users/kyle/Library/CloudStorage/Box-Box/FoxLab/data-microscopy/neuromorpho-benchmark\")\n",
    "morphopy_features_path = data_path / \"processed/morphopy_features\"\n",
    "\n",
    "morphopy_features = MorphopyFeatures(morphopy_features_path)\n",
    "radius_measure_masks = morphopy_features.data.columns.str.contains(r\"thickness|volume|surface\")\n",
    "cols = morphopy_features.data.columns[~radius_measure_masks]\n",
    "features = morphopy_features.data.copy()[cols]\n",
    "features = features.dropna(axis=1)\n",
    "neuron_name = morphopy_features.neurons\n",
    "target = morphopy_features.target"
   ]
  },
  {
   "attachments": {},
   "cell_type": "markdown",
   "metadata": {},
   "source": [
    "### Dimensionality reduction"
   ]
  },
  {
   "cell_type": "code",
   "execution_count": null,
   "metadata": {},
   "outputs": [],
   "source": [
    "reducer = umap.UMAP(random_state=42, n_neighbors=10, min_dist=0.01)\n",
    "reducer.fit(features.dropna(axis=1))\n",
    "umap_embeddings = reducer.embedding_"
   ]
  },
  {
   "cell_type": "code",
   "execution_count": null,
   "metadata": {},
   "outputs": [],
   "source": [
    "df_umap_embeddings = pd.DataFrame(umap_embeddings, columns=[\"UMAP1\", \"UMAP2\"])\n",
    "df_umap_embeddings = df_umap_embeddings.assign(target=target)\n",
    "\n",
    "fig, axs = plt.subplots(ncols=2, figsize=(20, 10))\n",
    "sns.scatterplot(\n",
    "    data=df_umap_embeddings,\n",
    "    x=\"UMAP1\",\n",
    "    y=\"UMAP2\",\n",
    "    s=12,\n",
    "    alpha=0.25,\n",
    "    ax=axs[0],\n",
    ")\n",
    "\n",
    "sns.scatterplot(\n",
    "    data=df_umap_embeddings,\n",
    "    x=\"UMAP1\",\n",
    "    y=\"UMAP2\",\n",
    "    s=12,\n",
    "    alpha=0.25,\n",
    "    hue=\"target\",\n",
    "    palette=\"tab10\",\n",
    "    ax=axs[1],\n",
    ")\n",
    "\n",
    "axs[1].legend(bbox_to_anchor=(1.05, 1), loc=2, borderaxespad=0.0)\n",
    "\n",
    "axs[0].set_title(\"MorphoPy Features\")\n",
    "axs[1].set_title(\"MorphoPy Features w/ Class Labels\")\n",
    "\n",
    "for ax in axs:\n",
    "    ax.tick_params(axis=\"both\", which=\"both\", labelsize=18)\n",
    "    ax.set_xlabel(\"UMAP1\", fontsize=18)\n",
    "    ax.set_ylabel(\"UMAP2\", fontsize=18)\n",
    "    ax.set_title(ax.get_title(), fontsize=24)"
   ]
  },
  {
   "attachments": {},
   "cell_type": "markdown",
   "metadata": {},
   "source": [
    "## Clustering"
   ]
  },
  {
   "cell_type": "code",
   "execution_count": null,
   "metadata": {},
   "outputs": [],
   "source": [
    "# clusterable_embedding = umap.UMAP(\n",
    "#     n_neighbors=30, min_dist=0.0, n_components=2, random_state=42\n",
    "# ).fit_transform(features.dropna(axis=1))\n",
    "\n",
    "hdb_cluster = hdbscan.HDBSCAN(min_cluster_size=60, min_samples=100).fit(umap_embeddings)\n",
    "cluster_labels = hdb_cluster.labels_"
   ]
  },
  {
   "cell_type": "code",
   "execution_count": null,
   "metadata": {},
   "outputs": [],
   "source": [
    "clustered = cluster_labels >= 0\n",
    "\n",
    "fig, ax = plt.subplots(figsize=(10, 10))\n",
    "\n",
    "sns.scatterplot(\n",
    "    data=df_umap_embeddings[~clustered],\n",
    "    x=\"UMAP1\",\n",
    "    y=\"UMAP2\",\n",
    "    ax=ax,\n",
    "    s=8,\n",
    "    alpha=0.8,\n",
    "    color=\"lightgrey\",\n",
    "    linewidth=0,\n",
    ")\n",
    "\n",
    "sns.scatterplot(\n",
    "    data=df_umap_embeddings[clustered],\n",
    "    x=\"UMAP1\",\n",
    "    y=\"UMAP2\",\n",
    "    ax=ax,\n",
    "    s=8,\n",
    "    alpha=0.25,\n",
    "    hue=cluster_labels[clustered],\n",
    "    linewidth=0,\n",
    "    palette=\"tab20\",\n",
    ")"
   ]
  },
  {
   "cell_type": "code",
   "execution_count": null,
   "metadata": {},
   "outputs": [],
   "source": []
  }
 ],
 "metadata": {
  "kernelspec": {
   "display_name": ".venv",
   "language": "python",
   "name": "python3"
  },
  "language_info": {
   "codemirror_mode": {
    "name": "ipython",
    "version": 3
   },
   "file_extension": ".py",
   "mimetype": "text/x-python",
   "name": "python",
   "nbconvert_exporter": "python",
   "pygments_lexer": "ipython3",
   "version": "3.10.9"
  },
  "orig_nbformat": 4,
  "vscode": {
   "interpreter": {
    "hash": "177808e769deaa2238333d070f9d45f12b3271b9a0903b6e5e7f3ea7d7d99e1d"
   }
  }
 },
 "nbformat": 4,
 "nbformat_minor": 2
}
